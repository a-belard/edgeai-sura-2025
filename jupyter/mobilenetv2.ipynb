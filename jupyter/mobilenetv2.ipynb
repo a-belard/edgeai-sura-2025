{
 "cells": [
  {
   "cell_type": "code",
   "execution_count": 1,
   "id": "70876af2",
   "metadata": {},
   "outputs": [
    {
     "name": "stdout",
     "output_type": "stream",
     "text": [
      "Requirement already satisfied: psutil in /Users/belix/.pyenv/versions/3.12.10/lib/python3.12/site-packages (7.0.0)\n",
      "Requirement already satisfied: numpy in /Users/belix/.pyenv/versions/3.12.10/lib/python3.12/site-packages (1.26.4)\n",
      "Requirement already satisfied: pillow in /Users/belix/.pyenv/versions/3.12.10/lib/python3.12/site-packages (11.2.1)\n",
      "Requirement already satisfied: tensorflow in /Users/belix/.pyenv/versions/3.12.10/lib/python3.12/site-packages (2.16.2)\n",
      "Collecting statistics\n",
      "  Downloading statistics-1.0.3.5.tar.gz (8.3 kB)\n",
      "  Preparing metadata (setup.py) ... \u001b[?25ldone\n",
      "\u001b[?25hRequirement already satisfied: absl-py>=1.0.0 in /Users/belix/.pyenv/versions/3.12.10/lib/python3.12/site-packages (from tensorflow) (2.2.2)\n",
      "Requirement already satisfied: astunparse>=1.6.0 in /Users/belix/.pyenv/versions/3.12.10/lib/python3.12/site-packages (from tensorflow) (1.6.3)\n",
      "Requirement already satisfied: flatbuffers>=23.5.26 in /Users/belix/.pyenv/versions/3.12.10/lib/python3.12/site-packages (from tensorflow) (25.2.10)\n",
      "Requirement already satisfied: gast!=0.5.0,!=0.5.1,!=0.5.2,>=0.2.1 in /Users/belix/.pyenv/versions/3.12.10/lib/python3.12/site-packages (from tensorflow) (0.6.0)\n",
      "Requirement already satisfied: google-pasta>=0.1.1 in /Users/belix/.pyenv/versions/3.12.10/lib/python3.12/site-packages (from tensorflow) (0.2.0)\n",
      "Requirement already satisfied: h5py>=3.10.0 in /Users/belix/.pyenv/versions/3.12.10/lib/python3.12/site-packages (from tensorflow) (3.13.0)\n",
      "Requirement already satisfied: libclang>=13.0.0 in /Users/belix/.pyenv/versions/3.12.10/lib/python3.12/site-packages (from tensorflow) (18.1.1)\n",
      "Requirement already satisfied: ml-dtypes~=0.3.1 in /Users/belix/.pyenv/versions/3.12.10/lib/python3.12/site-packages (from tensorflow) (0.3.2)\n",
      "Requirement already satisfied: opt-einsum>=2.3.2 in /Users/belix/.pyenv/versions/3.12.10/lib/python3.12/site-packages (from tensorflow) (3.4.0)\n",
      "Requirement already satisfied: packaging in /Users/belix/.pyenv/versions/3.12.10/lib/python3.12/site-packages (from tensorflow) (25.0)\n",
      "Requirement already satisfied: protobuf!=4.21.0,!=4.21.1,!=4.21.2,!=4.21.3,!=4.21.4,!=4.21.5,<5.0.0dev,>=3.20.3 in /Users/belix/.pyenv/versions/3.12.10/lib/python3.12/site-packages (from tensorflow) (4.25.7)\n",
      "Requirement already satisfied: requests<3,>=2.21.0 in /Users/belix/.pyenv/versions/3.12.10/lib/python3.12/site-packages (from tensorflow) (2.32.3)\n",
      "Requirement already satisfied: setuptools in /Users/belix/.pyenv/versions/3.12.10/lib/python3.12/site-packages (from tensorflow) (80.8.0)\n",
      "Requirement already satisfied: six>=1.12.0 in /Users/belix/.pyenv/versions/3.12.10/lib/python3.12/site-packages (from tensorflow) (1.17.0)\n",
      "Requirement already satisfied: termcolor>=1.1.0 in /Users/belix/.pyenv/versions/3.12.10/lib/python3.12/site-packages (from tensorflow) (3.1.0)\n",
      "Requirement already satisfied: typing-extensions>=3.6.6 in /Users/belix/.pyenv/versions/3.12.10/lib/python3.12/site-packages (from tensorflow) (4.13.2)\n",
      "Requirement already satisfied: wrapt>=1.11.0 in /Users/belix/.pyenv/versions/3.12.10/lib/python3.12/site-packages (from tensorflow) (1.17.2)\n",
      "Requirement already satisfied: grpcio<2.0,>=1.24.3 in /Users/belix/.pyenv/versions/3.12.10/lib/python3.12/site-packages (from tensorflow) (1.71.0)\n",
      "Requirement already satisfied: tensorboard<2.17,>=2.16 in /Users/belix/.pyenv/versions/3.12.10/lib/python3.12/site-packages (from tensorflow) (2.16.2)\n",
      "Requirement already satisfied: keras>=3.0.0 in /Users/belix/.pyenv/versions/3.12.10/lib/python3.12/site-packages (from tensorflow) (3.10.0)\n",
      "Collecting docutils>=0.3 (from statistics)\n",
      "  Downloading docutils-0.21.2-py3-none-any.whl.metadata (2.8 kB)\n",
      "Requirement already satisfied: wheel<1.0,>=0.23.0 in /Users/belix/.pyenv/versions/3.12.10/lib/python3.12/site-packages (from astunparse>=1.6.0->tensorflow) (0.45.1)\n",
      "Requirement already satisfied: rich in /Users/belix/.pyenv/versions/3.12.10/lib/python3.12/site-packages (from keras>=3.0.0->tensorflow) (14.0.0)\n",
      "Requirement already satisfied: namex in /Users/belix/.pyenv/versions/3.12.10/lib/python3.12/site-packages (from keras>=3.0.0->tensorflow) (0.0.9)\n",
      "Requirement already satisfied: optree in /Users/belix/.pyenv/versions/3.12.10/lib/python3.12/site-packages (from keras>=3.0.0->tensorflow) (0.15.0)\n",
      "Requirement already satisfied: charset-normalizer<4,>=2 in /Users/belix/.pyenv/versions/3.12.10/lib/python3.12/site-packages (from requests<3,>=2.21.0->tensorflow) (3.4.2)\n",
      "Requirement already satisfied: idna<4,>=2.5 in /Users/belix/.pyenv/versions/3.12.10/lib/python3.12/site-packages (from requests<3,>=2.21.0->tensorflow) (3.10)\n",
      "Requirement already satisfied: urllib3<3,>=1.21.1 in /Users/belix/.pyenv/versions/3.12.10/lib/python3.12/site-packages (from requests<3,>=2.21.0->tensorflow) (2.4.0)\n",
      "Requirement already satisfied: certifi>=2017.4.17 in /Users/belix/.pyenv/versions/3.12.10/lib/python3.12/site-packages (from requests<3,>=2.21.0->tensorflow) (2025.4.26)\n",
      "Requirement already satisfied: markdown>=2.6.8 in /Users/belix/.pyenv/versions/3.12.10/lib/python3.12/site-packages (from tensorboard<2.17,>=2.16->tensorflow) (3.8)\n",
      "Requirement already satisfied: tensorboard-data-server<0.8.0,>=0.7.0 in /Users/belix/.pyenv/versions/3.12.10/lib/python3.12/site-packages (from tensorboard<2.17,>=2.16->tensorflow) (0.7.2)\n",
      "Requirement already satisfied: werkzeug>=1.0.1 in /Users/belix/.pyenv/versions/3.12.10/lib/python3.12/site-packages (from tensorboard<2.17,>=2.16->tensorflow) (3.1.3)\n",
      "Requirement already satisfied: MarkupSafe>=2.1.1 in /Users/belix/.pyenv/versions/3.12.10/lib/python3.12/site-packages (from werkzeug>=1.0.1->tensorboard<2.17,>=2.16->tensorflow) (3.0.2)\n",
      "Requirement already satisfied: markdown-it-py>=2.2.0 in /Users/belix/.pyenv/versions/3.12.10/lib/python3.12/site-packages (from rich->keras>=3.0.0->tensorflow) (3.0.0)\n",
      "Requirement already satisfied: pygments<3.0.0,>=2.13.0 in /Users/belix/.pyenv/versions/3.12.10/lib/python3.12/site-packages (from rich->keras>=3.0.0->tensorflow) (2.19.1)\n",
      "Requirement already satisfied: mdurl~=0.1 in /Users/belix/.pyenv/versions/3.12.10/lib/python3.12/site-packages (from markdown-it-py>=2.2.0->rich->keras>=3.0.0->tensorflow) (0.1.2)\n",
      "Downloading docutils-0.21.2-py3-none-any.whl (587 kB)\n",
      "\u001b[2K   \u001b[90m━━━━━━━━━━━━━━━━━━━━━━━━━━━━━━━━━━━━━━━━\u001b[0m \u001b[32m587.4/587.4 kB\u001b[0m \u001b[31m1.6 MB/s\u001b[0m eta \u001b[36m0:00:00\u001b[0m-:--:--\u001b[0m\n",
      "\u001b[?25hBuilding wheels for collected packages: statistics\n",
      "  Building wheel for statistics (setup.py) ... \u001b[?25ldone\n",
      "\u001b[?25h  Created wheel for statistics: filename=statistics-1.0.3.5-py3-none-any.whl size=7491 sha256=8a9bb30ef9840eb0edce7d14bc21b34a79be08547b28193255b94754588ace3c\n",
      "  Stored in directory: /Users/belix/Library/Caches/pip/wheels/10/9c/1a/0c68a89e4533a18e9f9902018b94ffc2481139818b67cbb05a\n",
      "Successfully built statistics\n",
      "Installing collected packages: docutils, statistics\n",
      "Successfully installed docutils-0.21.2 statistics-1.0.3.5\n",
      "\n",
      "\u001b[1m[\u001b[0m\u001b[34;49mnotice\u001b[0m\u001b[1;39;49m]\u001b[0m\u001b[39;49m A new release of pip is available: \u001b[0m\u001b[31;49m25.0.1\u001b[0m\u001b[39;49m -> \u001b[0m\u001b[32;49m25.1.1\u001b[0m\n",
      "\u001b[1m[\u001b[0m\u001b[34;49mnotice\u001b[0m\u001b[1;39;49m]\u001b[0m\u001b[39;49m To update, run: \u001b[0m\u001b[32;49mpip install --upgrade pip\u001b[0m\n"
     ]
    },
    {
     "name": "stderr",
     "output_type": "stream",
     "text": [
      "2025-05-29 03:25:29.480033: I tensorflow/core/platform/cpu_feature_guard.cc:210] This TensorFlow binary is optimized to use available CPU instructions in performance-critical operations.\n",
      "To enable the following instructions: AVX2 FMA, in other operations, rebuild TensorFlow with the appropriate compiler flags.\n"
     ]
    }
   ],
   "source": [
    "# dependencies\n",
    "!pip install psutil numpy pillow tensorflow statistics\n",
    "\n",
    "import time\n",
    "import psutil\n",
    "import numpy as np\n",
    "from PIL import Image\n",
    "import tensorflow as tf\n",
    "import statistics"
   ]
  },
  {
   "cell_type": "markdown",
   "id": "afac196d",
   "metadata": {},
   "source": [
    "## MobileNetV2"
   ]
  },
  {
   "cell_type": "code",
   "execution_count": 2,
   "id": "26324e37",
   "metadata": {},
   "outputs": [
    {
     "name": "stdout",
     "output_type": "stream",
     "text": [
      "Model loaded successfully.\n"
     ]
    },
    {
     "name": "stderr",
     "output_type": "stream",
     "text": [
      "INFO: Created TensorFlow Lite XNNPACK delegate for CPU.\n"
     ]
    }
   ],
   "source": [
    "# Loading the TFLite model\n",
    "interpreter = tf.lite.Interpreter(model_path=\"models/mobilenetv2.tflite\")\n",
    "interpreter.allocate_tensors()\n",
    "\n",
    "input_details = interpreter.get_input_details()\n",
    "output_details = interpreter.get_output_details()\n",
    "print(\"Model loaded successfully.\")"
   ]
  },
  {
   "cell_type": "markdown",
   "id": "c271108b",
   "metadata": {},
   "source": [
    "## Load and Preprocess Sample Image"
   ]
  },
  {
   "cell_type": "code",
   "execution_count": 3,
   "id": "83390d14",
   "metadata": {},
   "outputs": [
    {
     "name": "stdout",
     "output_type": "stream",
     "text": [
      "Image loaded and processed.\n"
     ]
    }
   ],
   "source": [
    "image = Image.open(\"test_images/test_dog.jpeg\").resize((224, 224))\n",
    "input_data = np.expand_dims(np.array(image) / 255.0, axis=0).astype(np.float32)\n",
    "print(\"Image loaded and processed.\")"
   ]
  },
  {
   "cell_type": "markdown",
   "id": "32eb24a6",
   "metadata": {},
   "source": [
    "## Inference & Performance"
   ]
  },
  {
   "cell_type": "code",
   "execution_count": 4,
   "id": "ac302b61",
   "metadata": {},
   "outputs": [
    {
     "name": "stdout",
     "output_type": "stream",
     "text": [
      "Average Inference Time: 17.71 ms\n",
      "Standard Deviation: 5.06 ms\n",
      "RAM Usage: 403.06 MB\n"
     ]
    }
   ],
   "source": [
    "input_scale, input_zero_point = input_details[0]['quantization']\n",
    "input_data_uint8 = (input_data / input_scale + input_zero_point).astype(np.uint8)\n",
    "\n",
    "inference_times = []\n",
    "\n",
    "# Run 100 times for benchmarking\n",
    "for _ in range(100):\n",
    "    start_time = time.time()\n",
    "\n",
    "    interpreter.set_tensor(input_details[0]['index'], input_data_uint8)\n",
    "    interpreter.invoke()\n",
    "    output = interpreter.get_tensor(output_details[0]['index'])\n",
    "    elapsed = (time.time() - start_time) * 1000  # milliseconds\n",
    "    inference_times.append(elapsed)\n",
    "\n",
    "# Calculate stats\n",
    "avg_time = sum(inference_times) / len(inference_times)\n",
    "std_time = statistics.stdev(inference_times)\n",
    "\n",
    "# RAM usage\n",
    "ram_usage = psutil.Process().memory_info().rss / 1024 / 1024  # MB\n",
    "\n",
    "# Output results\n",
    "print(f\"Average Inference Time: {avg_time:.2f} ms\")\n",
    "print(f\"Standard Deviation: {std_time:.2f} ms\")\n",
    "print(f\"RAM Usage: {ram_usage:.2f} MB\")"
   ]
  },
  {
   "cell_type": "markdown",
   "id": "e024a1d5",
   "metadata": {},
   "source": [
    "## Log Result"
   ]
  },
  {
   "cell_type": "code",
   "execution_count": 5,
   "id": "2185c5a3",
   "metadata": {},
   "outputs": [
    {
     "ename": "NameError",
     "evalue": "name 'inference_time' is not defined",
     "output_type": "error",
     "traceback": [
      "\u001b[31m---------------------------------------------------------------------------\u001b[39m",
      "\u001b[31mNameError\u001b[39m                                 Traceback (most recent call last)",
      "\u001b[36mCell\u001b[39m\u001b[36m \u001b[39m\u001b[32mIn[5]\u001b[39m\u001b[32m, line 5\u001b[39m\n\u001b[32m      3\u001b[39m \u001b[38;5;28;01mwith\u001b[39;00m \u001b[38;5;28mopen\u001b[39m(\u001b[33m\"\u001b[39m\u001b[33mbenchmark_log.csv\u001b[39m\u001b[33m\"\u001b[39m, mode=\u001b[33m\"\u001b[39m\u001b[33ma\u001b[39m\u001b[33m\"\u001b[39m) \u001b[38;5;28;01mas\u001b[39;00m file:\n\u001b[32m      4\u001b[39m     writer = csv.writer(file)\n\u001b[32m----> \u001b[39m\u001b[32m5\u001b[39m     writer.writerow([\u001b[33m\"\u001b[39m\u001b[33mMobileNetV2_Quantized\u001b[39m\u001b[33m\"\u001b[39m, \u001b[33mf\u001b[39m\u001b[33m\"\u001b[39m\u001b[38;5;132;01m{\u001b[39;00m\u001b[43minference_time\u001b[49m\u001b[38;5;132;01m:\u001b[39;00m\u001b[33m.2f\u001b[39m\u001b[38;5;132;01m}\u001b[39;00m\u001b[33m\"\u001b[39m, \u001b[33mf\u001b[39m\u001b[33m\"\u001b[39m\u001b[38;5;132;01m{\u001b[39;00mram_usage\u001b[38;5;132;01m:\u001b[39;00m\u001b[33m.2f\u001b[39m\u001b[38;5;132;01m}\u001b[39;00m\u001b[33m\"\u001b[39m])\n",
      "\u001b[31mNameError\u001b[39m: name 'inference_time' is not defined"
     ]
    }
   ],
   "source": [
    "import csv\n",
    "\n",
    "with open(\"benchmark_log.csv\", mode=\"a\") as file:\n",
    "    writer = csv.writer(file)\n",
    "    writer.writerow([\"MobileNetV2_Quantized\", f\"{inference_time:.2f}\", f\"{ram_usage:.2f}\"])"
   ]
  }
 ],
 "metadata": {
  "kernelspec": {
   "display_name": "Python 3 (ipykernel)",
   "language": "python",
   "name": "python3"
  },
  "language_info": {
   "codemirror_mode": {
    "name": "ipython",
    "version": 3
   },
   "file_extension": ".py",
   "mimetype": "text/x-python",
   "name": "python",
   "nbconvert_exporter": "python",
   "pygments_lexer": "ipython3",
   "version": "3.12.10"
  }
 },
 "nbformat": 4,
 "nbformat_minor": 5
}
